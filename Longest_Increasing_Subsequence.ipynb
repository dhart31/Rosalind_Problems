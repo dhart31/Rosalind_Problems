{
 "cells": [
  {
   "cell_type": "code",
   "execution_count": 144,
   "metadata": {},
   "outputs": [],
   "source": [
    "import math\n",
    "f=open(r\"C:\\Users\\Derek Hart\\Documents\\Python\\rosalind_lgis.txt\")\n",
    "n  = f.readline().strip()\n",
    "X = list(map(int,f.readline().split()))\n",
    "f.close()"
   ]
  },
  {
   "cell_type": "code",
   "execution_count": 100,
   "metadata": {},
   "outputs": [],
   "source": [
    "#wikipedia has a fantastic solution!\n",
    "def longest_sequence(X,direction):\n",
    "    n = len(X)\n",
    "    P = [0]*n\n",
    "    M = [0]*(n+1)\n",
    "    L = 0\n",
    "    for i in range(0,n):\n",
    "        lo = 1\n",
    "        hi = L\n",
    "        #Performs binary search on M, looking for idx to replace in longest subseq\n",
    "        #Finds replacement value for M[j]\n",
    "        while lo <= hi:\n",
    "            mid = math.ceil((lo+hi)/2)\n",
    "            if direction == 'increasing':\n",
    "                #If \n",
    "                if X[M[mid]] < X[i]:\n",
    "                    lo = mid+1\n",
    "                else:\n",
    "                    hi = mid-1\n",
    "            elif direction == 'decreasing':\n",
    "                if X[M[mid]] > X[i]:\n",
    "                    lo = mid+1\n",
    "                else:\n",
    "                    hi = mid-1\n",
    "        #idx \"newL\" of longest subseq replaced by lo of binary search\n",
    "        newL = lo\n",
    "        #Store idx of subseq with length newL-1\n",
    "        P[i] = M[newL-1]\n",
    "        M[newL] = i\n",
    "        if newL > L:\n",
    "            L = newL  \n",
    "    S = [0]*L\n",
    "    k = M[L] #Get idx of last element of longest subseq\n",
    "    for j in range(L-1,-1,-1):\n",
    "        S[j] = X[k]\n",
    "        k = P[k] #Get idx of preceding element in longest subseq\n",
    "    s = ''\n",
    "    for i in range(len(S)):\n",
    "        s=s+str(S[i])+' '\n",
    "    print(s)"
   ]
  },
  {
   "cell_type": "code",
   "execution_count": 101,
   "metadata": {},
   "outputs": [
    {
     "name": "stdout",
     "output_type": "stream",
     "text": [
      "308 341 359 479 554 753 777 791 801 817 818 822 834 857 860 865 934 964 992 993 1068 1093 1165 1202 1222 1263 1302 1311 1372 1450 1547 1562 1651 1811 1885 1892 1936 1979 2079 2109 2138 2152 2165 2338 2353 2413 2447 2506 2605 2636 2637 2658 2662 2718 2735 2757 2761 2824 2875 2906 2926 2945 3132 3165 3347 3394 3405 3531 3552 3568 3631 3754 3805 3833 3837 3869 3994 4139 4181 4282 4355 4391 4603 4607 4713 4725 4734 4942 5016 5029 5047 5108 5354 5416 5425 5477 5529 5622 5700 5771 5813 5838 5949 5958 5985 6016 6071 6128 6238 6300 6329 6416 6428 6571 6591 6605 6642 6662 6668 6700 6772 6857 6858 6859 6864 6877 6950 6967 7059 7068 7072 7086 7200 7238 7341 7346 7386 7439 7552 7607 7650 7675 7726 7736 7816 7821 7827 7851 7856 7954 7960 7978 8008 8054 8105 8121 8154 8176 8214 8243 8248 8344 8365 8529 8552 8624 8630 8722 8734 8741 8759 8827 8842 8857 8877 8917 9141 9170 9200 9235 9265 9307 9354 9385 9562 9594 9694 9776 9803 \n",
      "9897 9868 9864 9831 9819 9742 9723 9639 9583 9524 9515 9487 9426 9383 9336 9264 9205 9097 9076 9050 9027 8935 8893 8883 8808 8775 8663 8661 8658 8647 8545 8497 8477 8433 8368 8338 8311 8239 8117 8100 8064 8020 7947 7891 7884 7848 7812 7809 7750 7746 7727 7527 7355 7279 7062 7045 6960 6929 6921 6809 6800 6735 6432 6338 6111 6101 6004 5996 5982 5875 5842 5801 5660 5471 5311 5299 5267 5245 5196 5116 5104 5055 5046 5002 5001 4981 4934 4767 4743 4721 4599 4552 4481 4434 4405 4381 4320 4282 4214 4146 4145 4137 4110 4048 3996 3940 3919 3907 3890 3888 3765 3747 3733 3721 3699 3658 3603 3597 3573 3564 3512 3501 3492 3453 3425 3414 3357 3287 3224 3213 3157 3110 3091 2982 2975 2967 2919 2840 2834 2788 2738 2656 2624 2611 2542 2533 2491 2390 2376 2283 2189 2115 2066 1983 1965 1955 1821 1820 1748 1711 1704 1674 1584 1528 1436 1325 1230 1153 1095 1065 1045 1004 999 972 966 917 829 807 704 703 612 564 549 542 490 439 412 283 258 254 185 83 49 5 \n"
     ]
    }
   ],
   "source": [
    "longest_sequence(X,'increasing')\n",
    "longest_sequence(X,'decreasing')"
   ]
  },
  {
   "cell_type": "code",
   "execution_count": 5,
   "metadata": {},
   "outputs": [
    {
     "name": "stdout",
     "output_type": "stream",
     "text": [
      "5\n",
      "4\n",
      "3\n",
      "2\n",
      "1\n"
     ]
    }
   ],
   "source": [
    "for i in range(5,0,-1):\n",
    "    print(i)"
   ]
  },
  {
   "cell_type": "code",
   "execution_count": 147,
   "metadata": {},
   "outputs": [
    {
     "name": "stdout",
     "output_type": "stream",
     "text": [
      "308 341 587 661 699 770 777 791 815 817 818 822 834 857 860 865 934 964 992 993 1068 1093 1487 1554 1589 1595 1639 1666 1738 1782 1788 2011 2019 2020 2113 2202 2220 2393 2432 2434 2509 2539 2579 2595 2774 2777 2934 3080 3210 3235 3252 3348 3542 3726 3739 3809 3844 3939 3956 3965 3980 3981 4068 4088 4136 4168 4191 4193 4194 4209 4229 4257 4289 4301 4428 4443 4515 4523 4552 4576 4580 4591 4603 4607 4713 4725 4734 4942 5016 5029 5119 5206 5354 5416 5425 5477 5529 5622 5749 5788 5813 5838 5949 5958 6021 6067 6071 6128 6238 6300 6329 6442 6514 6588 6591 6605 6658 6666 6668 6700 6772 6857 6858 6859 6864 6919 6963 6967 7059 7209 7230 7297 7315 7413 7457 7463 7473 7570 7609 7640 7650 7675 7726 7751 7816 7821 7827 7851 7923 7992 7999 8013 8115 8147 8171 8230 8272 8300 8336 8455 8457 8547 8648 8736 8739 8752 8809 8859 9014 9051 9173 9202 9230 9301 9312 9331 9360 9435 9443 9509 9579 9633 9647 9669 9746 9789 9836 9849 9905\n"
     ]
    }
   ],
   "source": [
    "# A really cool solution!\n",
    "l = X\n",
    "inc = [(0,[])]*(len(l)+1)\n",
    "\n",
    "for i in l:\n",
    "    x,y = max(inc[:i])\n",
    "    inc[i] = (x+1,y+[i])\n",
    "print(\" \".join(map(str,max(inc)[1])))\n"
   ]
  },
  {
   "cell_type": "code",
   "execution_count": 142,
   "metadata": {},
   "outputs": [
    {
     "data": {
      "text/plain": [
       "(3, [3, 2, 8])"
      ]
     },
     "execution_count": 142,
     "metadata": {},
     "output_type": "execute_result"
    }
   ],
   "source": [
    "max([(3,[1,2,3,4]),(3,[1,4,9])])"
   ]
  },
  {
   "cell_type": "code",
   "execution_count": 124,
   "metadata": {},
   "outputs": [
    {
     "data": {
      "text/plain": [
       "[1, 2, 6, 5, 3]"
      ]
     },
     "execution_count": 124,
     "metadata": {},
     "output_type": "execute_result"
    }
   ],
   "source": [
    "l[:5]"
   ]
  },
  {
   "cell_type": "code",
   "execution_count": 136,
   "metadata": {},
   "outputs": [
    {
     "data": {
      "text/plain": [
       "9"
      ]
     },
     "execution_count": 136,
     "metadata": {},
     "output_type": "execute_result"
    }
   ],
   "source": [
    "max([1,3,9])"
   ]
  },
  {
   "cell_type": "code",
   "execution_count": null,
   "metadata": {},
   "outputs": [],
   "source": []
  }
 ],
 "metadata": {
  "kernelspec": {
   "display_name": "Python 3",
   "language": "python",
   "name": "python3"
  },
  "language_info": {
   "codemirror_mode": {
    "name": "ipython",
    "version": 3
   },
   "file_extension": ".py",
   "mimetype": "text/x-python",
   "name": "python",
   "nbconvert_exporter": "python",
   "pygments_lexer": "ipython3",
   "version": "3.6.4"
  }
 },
 "nbformat": 4,
 "nbformat_minor": 2
}
