{
 "cells": [
  {
   "cell_type": "code",
   "execution_count": 1,
   "metadata": {},
   "outputs": [],
   "source": [
    "\n",
    "s = 'AUAU'\n",
    "\n",
    "def catalan(s,count=0):\n",
    "    if s:\n",
    "        for j in range(1,len(s),2):\n",
    "            if (s[0],s[j]) in (('A','U'),('U','A'),('C','G'),('G','C')):\n",
    "                print(s[0],s[j])\n",
    "                print(s[1:j])\n",
    "                print(s[j+1:])\n",
    "                #if i+1 < len(s) and j+1 < len(s):\n",
    "                if catalan(s[1:j]) and catalan(s[j+1:]):\n",
    "                    count += 1\n",
    "    else:\n",
    "        return 1\n",
    "    return count"
   ]
  },
  {
   "cell_type": "code",
   "execution_count": 2,
   "metadata": {},
   "outputs": [
    {
     "data": {
      "text/plain": [
       "790336"
      ]
     },
     "execution_count": 2,
     "metadata": {},
     "output_type": "execute_result"
    }
   ],
   "source": [
    "s = 'ACGGAGCUCAUUUAACGCCCCGGGGCGAUCAGCGCUCUAUAGUAAAUUCGGUGAUAUGCCAAUUCGCUAGCAUAUCGAAUUCGGCCGGAUCGCAUGCGCGUCCGGGGGCCCAAUCAUGAUCGUACGCGCCACGUGCGAGGCCAUUGGCGGCCAUCAUAGCCGUUACGGCCCUAAUGGAUAAUUCGAGCGCUCGGUCAGCCGUGGCAGAUUACAGCUCCGAAUUCCGGCGCCGGGAUAUCGCGAUCCGAAUUGGCGCCGGCCGGCGUACAAUUAACAUGUGCUAU'\n",
    "#A MUCH MUCH FASTER RECURSIVE METHOD!\n",
    "cache = {'':1, 'A':0, 'C':0, 'G':0, 'U':0, 'AA':0, 'AC':0, 'AG':0, 'AU':1, 'CA':0, 'CC':0,\n",
    "'CG':1, 'CU':0, 'GA':0, 'GC':1, 'GG':0, 'GU':0, 'UA':1, 'UC':0, 'UG':0, 'UU':0}\n",
    "\n",
    "\n",
    "def catalan2(s):\n",
    "    if s not in cache:\n",
    "        tmp = []\n",
    "        for j in range(1,len(s),2):\n",
    "            tmp.append(catalan2(s[1:j])*catalan2(s[j+1:])*cache[s[0]+s[j]])\n",
    "        cache[s] = sum(tmp)\n",
    "    return cache[s]\n",
    "catalan2(s)%1000000"
   ]
  },
  {
   "cell_type": "code",
   "execution_count": null,
   "metadata": {},
   "outputs": [],
   "source": []
  }
 ],
 "metadata": {
  "kernelspec": {
   "display_name": "Python 3",
   "language": "python",
   "name": "python3"
  },
  "language_info": {
   "codemirror_mode": {
    "name": "ipython",
    "version": 3
   },
   "file_extension": ".py",
   "mimetype": "text/x-python",
   "name": "python",
   "nbconvert_exporter": "python",
   "pygments_lexer": "ipython3",
   "version": "3.6.4"
  }
 },
 "nbformat": 4,
 "nbformat_minor": 2
}
