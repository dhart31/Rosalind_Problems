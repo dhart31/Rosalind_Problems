{
 "cells": [
  {
   "cell_type": "code",
   "execution_count": 5,
   "metadata": {},
   "outputs": [],
   "source": [
    "rabbits = [1,1]\n",
    "for n in range(6):\n",
    "    if len(rabbits)>=3:\n",
    "        nextGen = rabbits[-1]+rabbits[-2]-rabbits[-3]\n",
    "        rabbits.append(nextGen)\n",
    "    else:\n",
    "        nextGen = rabbits[-1]+rabbits[-2]\n",
    "        rabbits.append(nextGen)"
   ]
  },
  {
   "cell_type": "code",
   "execution_count": 69,
   "metadata": {},
   "outputs": [
    {
     "name": "stdout",
     "output_type": "stream",
     "text": [
      "[1, 1, 2]\n",
      "[1, 1, 2]\n",
      "[1, 1, 2, 2]\n",
      "[1, 1, 2, 3]\n",
      "[1, 1, 2, 2, 3]\n",
      "[1, 1, 2, 3, 4]\n",
      "[1, 1, 2, 2, 3, 4]\n",
      "[1, 1, 2, 3, 4, 5]\n"
     ]
    }
   ],
   "source": [
    "children = [1,1]\n",
    "adult = [1,1]\n",
    "for n in range(6-2):\n",
    "    if len(adult)>=3:\n",
    "        children.append(adult[-1])\n",
    "        adult.append(adult[-1]+children[-1]-adult[-2])\n",
    "    else:\n",
    "        children.append(adult[-1]+children[-1])\n",
    "        adult.append(children[-1])\n",
    "    print(children)\n",
    "    print(adult)"
   ]
  },
  {
   "cell_type": "code",
   "execution_count": 61,
   "metadata": {},
   "outputs": [],
   "source": [
    "a = [1, 0, 0]"
   ]
  },
  {
   "cell_type": "code",
   "execution_count": 74,
   "metadata": {},
   "outputs": [],
   "source": [
    "def generation(a):\n",
    "    b = [0]*len(a)\n",
    "    for n in range(len(a)-1):\n",
    "        b[n+1] = a[n]\n",
    "    a = b\n",
    "    return a"
   ]
  },
  {
   "cell_type": "code",
   "execution_count": 116,
   "metadata": {},
   "outputs": [
    {
     "data": {
      "text/plain": [
       "[1, 0, 0]"
      ]
     },
     "execution_count": 116,
     "metadata": {},
     "output_type": "execute_result"
    }
   ],
   "source": []
  },
  {
   "cell_type": "code",
   "execution_count": 123,
   "metadata": {},
   "outputs": [
    {
     "name": "stdout",
     "output_type": "stream",
     "text": [
      "258314806822396236\n"
     ]
    }
   ],
   "source": [
    "lifetime = 18\n",
    "numMonths = 85\n",
    "currGen = [1]+[0]*(lifetime-1)\n",
    "for n in range(numMonths-1):\n",
    "    currGen = [sum(currGen[1:])] + currGen[:-1]\n",
    "print(sum(currGen))"
   ]
  },
  {
   "cell_type": "code",
   "execution_count": 96,
   "metadata": {},
   "outputs": [
    {
     "data": {
      "text/plain": [
       "[9, 1, 2, 3]"
      ]
     },
     "execution_count": 96,
     "metadata": {},
     "output_type": "execute_result"
    }
   ],
   "source": [
    "b"
   ]
  },
  {
   "cell_type": "code",
   "execution_count": null,
   "metadata": {},
   "outputs": [],
   "source": []
  }
 ],
 "metadata": {
  "kernelspec": {
   "display_name": "Python 3",
   "language": "python",
   "name": "python3"
  },
  "language_info": {
   "codemirror_mode": {
    "name": "ipython",
    "version": 3
   },
   "file_extension": ".py",
   "mimetype": "text/x-python",
   "name": "python",
   "nbconvert_exporter": "python",
   "pygments_lexer": "ipython3",
   "version": "3.6.4"
  }
 },
 "nbformat": 4,
 "nbformat_minor": 2
}
