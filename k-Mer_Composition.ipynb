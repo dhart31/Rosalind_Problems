{
 "cells": [
  {
   "cell_type": "code",
   "execution_count": 4,
   "metadata": {},
   "outputs": [],
   "source": [
    "from Bio import SeqIO"
   ]
  },
  {
   "cell_type": "code",
   "execution_count": 132,
   "metadata": {},
   "outputs": [],
   "source": [
    "seq = SeqIO.read(r\"C:\\Users\\Derek Hart\\Documents\\Python\\rosalind_kmer.txt\",'fasta').seq"
   ]
  },
  {
   "cell_type": "code",
   "execution_count": 133,
   "metadata": {},
   "outputs": [],
   "source": [
    "kmer_list = [''.join(i) for i in list(product('ACGT',repeat=4))]\n",
    "kmer_output = ''\n",
    "\n",
    "for kmer in kmer_list:\n",
    "    kmer_count = 0\n",
    "    while True:\n",
    "        kmer_idx = seq.find(kmer,kmer_idx+1)\n",
    "        if kmer_idx !=-1:\n",
    "            kmer_count +=1\n",
    "        else:\n",
    "            break\n",
    "    kmer_output += str(kmer_count) + ' '"
   ]
  },
  {
   "cell_type": "code",
   "execution_count": 134,
   "metadata": {},
   "outputs": [
    {
     "data": {
      "text/plain": [
       "'407 421 393 393 389 375 380 401 389 369 411 411 388 395 379 375 373 373 382 400 399 372 375 396 391 364 375 358 394 408 381 376 359 412 385 381 375 365 376 380 428 413 366 385 387 392 395 387 403 366 372 397 387 372 376 425 391 354 367 404 390 366 426 375 409 362 385 382 366 395 355 396 375 361 410 365 404 374 365 389 373 372 354 388 346 344 406 380 392 359 353 377 382 397 388 423 377 383 409 390 378 352 408 385 356 375 352 393 356 373 406 371 398 404 396 381 406 374 406 410 369 404 370 384 407 411 407 377 410 386 398 369 402 390 380 385 374 396 384 387 359 397 378 399 375 367 391 360 355 376 340 413 386 416 373 371 378 364 377 398 414 367 359 398 359 377 371 397 391 347 385 387 389 402 393 378 408 332 405 382 380 415 379 404 421 400 397 410 366 403 389 381 388 376 404 393 371 382 373 377 399 370 387 398 387 394 394 394 417 400 384 384 387 384 360 401 390 384 375 399 425 427 381 405 413 395 388 364 381 390 392 355 363 369 407 397 395 411 434 403 352 401 381 409 412 371 387 399 379 360 402 445 380 389 364 386 '"
      ]
     },
     "execution_count": 134,
     "metadata": {},
     "output_type": "execute_result"
    }
   ],
   "source": [
    "kmer_output"
   ]
  }
 ],
 "metadata": {
  "kernelspec": {
   "display_name": "Python 3",
   "language": "python",
   "name": "python3"
  },
  "language_info": {
   "codemirror_mode": {
    "name": "ipython",
    "version": 3
   },
   "file_extension": ".py",
   "mimetype": "text/x-python",
   "name": "python",
   "nbconvert_exporter": "python",
   "pygments_lexer": "ipython3",
   "version": "3.6.4"
  }
 },
 "nbformat": 4,
 "nbformat_minor": 2
}
