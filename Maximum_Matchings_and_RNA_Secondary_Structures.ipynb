{
 "cells": [
  {
   "cell_type": "code",
   "execution_count": 39,
   "metadata": {},
   "outputs": [],
   "source": [
    "import math\n",
    "import itertools"
   ]
  },
  {
   "cell_type": "code",
   "execution_count": 43,
   "metadata": {},
   "outputs": [],
   "source": [
    "x = 'CUGAUAUUUGUGUUGAUUAAUCUUGUAUGCAGCGAGGAAUUCGCUACGAAGCGACUUCUAGCUUGUGCUCGGGAAGCGGUCGAAUCUACCAAC'\n",
    "bCnt=[x.count(i) for i in 'AUGC']\n",
    "\n",
    "maxAU = max(bCnt[0:2])\n",
    "minAU = min(bCnt[0:2])\n",
    "maxGC = max(bCnt[2:])\n",
    "minGC = min(bCnt[2:])\n",
    "# there are nCm ways to choose a subset and m! ways to do matching\n",
    "# in other words, there is nPm ways to make a maximum matching\n",
    "# Use the // command to do integer division to make sure it doesn't convert to floating pt\n",
    "au_combos = int(math.factorial(maxAU))//int(math.factorial(maxAU-minAU))\n",
    "gc_combos = int(math.factorial(maxGC))//int(math.factorial(maxGC-minGC))"
   ]
  },
  {
   "cell_type": "code",
   "execution_count": 44,
   "metadata": {},
   "outputs": [
    {
     "data": {
      "text/plain": [
       "2189438496775821637594754199745000479129600000000"
      ]
     },
     "execution_count": 44,
     "metadata": {},
     "output_type": "execute_result"
    }
   ],
   "source": [
    "int(au_combos*gc_combos)"
   ]
  },
  {
   "cell_type": "code",
   "execution_count": null,
   "metadata": {},
   "outputs": [],
   "source": []
  }
 ],
 "metadata": {
  "kernelspec": {
   "display_name": "Python 3",
   "language": "python",
   "name": "python3"
  },
  "language_info": {
   "codemirror_mode": {
    "name": "ipython",
    "version": 3
   },
   "file_extension": ".py",
   "mimetype": "text/x-python",
   "name": "python",
   "nbconvert_exporter": "python",
   "pygments_lexer": "ipython3",
   "version": "3.6.4"
  }
 },
 "nbformat": 4,
 "nbformat_minor": 2
}
