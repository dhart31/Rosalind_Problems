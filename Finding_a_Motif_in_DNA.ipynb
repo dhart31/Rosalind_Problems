{
 "cells": [
  {
   "cell_type": "code",
   "execution_count": 32,
   "metadata": {},
   "outputs": [],
   "source": [
    "f = open(r\"C:\\Users\\Derek Hart\\Documents\\Python\\rosalind_subs.txt\")\n",
    "s1= f.readline().rstrip()\n",
    "s2 = f.readline().rstrip()"
   ]
  },
  {
   "cell_type": "code",
   "execution_count": 36,
   "metadata": {},
   "outputs": [
    {
     "name": "stdout",
     "output_type": "stream",
     "text": [
      "25\n",
      "54\n",
      "71\n",
      "78\n",
      "165\n",
      "180\n",
      "192\n",
      "214\n",
      "221\n",
      "462\n",
      "567\n",
      "607\n",
      "614\n",
      "633\n",
      "661\n",
      "700\n",
      "728\n",
      "769\n",
      "776\n"
     ]
    }
   ],
   "source": [
    "locs = []\n",
    "num = 0\n",
    "while num != -1:\n",
    "    num = s1.find(s2,num+1)\n",
    "    locs.append(num)\n",
    "    \n",
    "x=[x+1 for x in locs]\n",
    "for n in x[1:-1]:\n",
    "    print(n)"
   ]
  },
  {
   "cell_type": "code",
   "execution_count": null,
   "metadata": {},
   "outputs": [],
   "source": []
  }
 ],
 "metadata": {
  "kernelspec": {
   "display_name": "Python 3",
   "language": "python",
   "name": "python3"
  },
  "language_info": {
   "codemirror_mode": {
    "name": "ipython",
    "version": 3
   },
   "file_extension": ".py",
   "mimetype": "text/x-python",
   "name": "python",
   "nbconvert_exporter": "python",
   "pygments_lexer": "ipython3",
   "version": "3.6.4"
  }
 },
 "nbformat": 4,
 "nbformat_minor": 2
}
