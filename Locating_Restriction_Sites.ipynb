{
 "cells": [
  {
   "cell_type": "code",
   "execution_count": 2,
   "metadata": {},
   "outputs": [],
   "source": [
    "from Bio import SeqIO"
   ]
  },
  {
   "cell_type": "code",
   "execution_count": 44,
   "metadata": {},
   "outputs": [],
   "source": [
    "s = list(SeqIO.parse(open(r'C:\\Users\\Derek Hart\\Documents\\Python\\rosalind_revp.txt'),'fasta'))"
   ]
  },
  {
   "cell_type": "code",
   "execution_count": 45,
   "metadata": {},
   "outputs": [],
   "source": [
    "seq = s[0].seq"
   ]
  },
  {
   "cell_type": "code",
   "execution_count": 48,
   "metadata": {},
   "outputs": [],
   "source": [
    "seq_rc =seq.reverse_complement()"
   ]
  },
  {
   "cell_type": "code",
   "execution_count": 49,
   "metadata": {},
   "outputs": [
    {
     "name": "stdout",
     "output_type": "stream",
     "text": [
      "1 4\n",
      "14 4\n",
      "29 4\n",
      "36 4\n",
      "54 4\n",
      "99 4\n",
      "122 4\n",
      "144 4\n",
      "175 4\n",
      "176 4\n",
      "192 4\n",
      "249 4\n",
      "250 4\n",
      "251 4\n",
      "255 4\n",
      "285 4\n",
      "301 4\n",
      "317 4\n",
      "326 4\n",
      "346 4\n",
      "365 4\n",
      "387 4\n",
      "390 4\n",
      "391 4\n",
      "406 4\n",
      "408 4\n",
      "428 4\n",
      "444 4\n",
      "450 4\n",
      "456 4\n",
      "462 4\n",
      "464 4\n",
      "475 4\n",
      "479 4\n",
      "495 4\n",
      "496 4\n",
      "499 4\n",
      "502 4\n",
      "503 4\n",
      "504 4\n",
      "520 4\n",
      "564 4\n",
      "568 4\n",
      "604 4\n",
      "629 4\n",
      "645 4\n",
      "656 4\n",
      "665 4\n",
      "671 4\n",
      "704 4\n",
      "712 4\n",
      "718 4\n",
      "725 4\n",
      "741 4\n",
      "757 4\n",
      "769 4\n",
      "779 4\n",
      "792 4\n",
      "816 4\n",
      "846 4\n",
      "854 4\n",
      "884 4\n",
      "886 4\n",
      "894 4\n",
      "904 4\n",
      "934 4\n",
      "945 4\n",
      "958 4\n",
      "974 4\n",
      "981 4\n",
      "990 4\n",
      "997 4\n",
      "13 6\n",
      "35 6\n",
      "121 6\n",
      "249 6\n",
      "316 6\n",
      "325 6\n",
      "364 6\n",
      "498 6\n",
      "502 6\n",
      "563 6\n",
      "567 6\n",
      "644 6\n",
      "664 6\n",
      "740 6\n",
      "778 6\n",
      "853 6\n",
      "893 6\n",
      "944 6\n",
      "989 6\n",
      "34 8\n",
      "120 8\n",
      "315 8\n",
      "497 8\n",
      "501 8\n",
      "643 8\n",
      "777 8\n",
      "496 10\n",
      "642 10\n",
      "495 12\n"
     ]
    }
   ],
   "source": [
    "for i in range(4,13):\n",
    "    for j in range(len(seq)-i+1):\n",
    "        if j == 0:\n",
    "            a=seq[j:i+j]\n",
    "            b=seq_rc[-(i+j):]  \n",
    "        else:\n",
    "            a=seq[j:i+j]\n",
    "            b=seq_rc[-(i+j):-j]\n",
    "        if a==b:\n",
    "            print(j+1,i)"
   ]
  },
  {
   "cell_type": "code",
   "execution_count": 47,
   "metadata": {},
   "outputs": [
    {
     "data": {
      "text/plain": [
       "Seq('ATATTACTTGAGTGCGCAGACATCTCCCTATAACTAATTAGAACTCTCATACTT...CGC', SingleLetterAlphabet())"
      ]
     },
     "execution_count": 47,
     "metadata": {},
     "output_type": "execute_result"
    }
   ],
   "source": [
    "seq"
   ]
  },
  {
   "cell_type": "code",
   "execution_count": null,
   "metadata": {},
   "outputs": [],
   "source": []
  }
 ],
 "metadata": {
  "kernelspec": {
   "display_name": "Python 3",
   "language": "python",
   "name": "python3"
  },
  "language_info": {
   "codemirror_mode": {
    "name": "ipython",
    "version": 3
   },
   "file_extension": ".py",
   "mimetype": "text/x-python",
   "name": "python",
   "nbconvert_exporter": "python",
   "pygments_lexer": "ipython3",
   "version": "3.6.4"
  }
 },
 "nbformat": 4,
 "nbformat_minor": 2
}
