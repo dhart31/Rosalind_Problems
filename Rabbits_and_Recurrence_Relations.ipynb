{
 "cells": [
  {
   "cell_type": "code",
   "execution_count": 41,
   "metadata": {},
   "outputs": [],
   "source": [
    "numPairs = 5\n",
    "numMonths = 31"
   ]
  },
  {
   "cell_type": "code",
   "execution_count": 42,
   "metadata": {},
   "outputs": [],
   "source": [
    "rabbits = [1,1]\n",
    "for n in range(numMonths-2):\n",
    "    nextGen = rabbits[-1]+rabbits[-2]*numPairs\n",
    "    rabbits.append(nextGen)"
   ]
  },
  {
   "cell_type": "code",
   "execution_count": 43,
   "metadata": {},
   "outputs": [
    {
     "data": {
      "text/plain": [
       "[1,\n",
       " 1,\n",
       " 6,\n",
       " 11,\n",
       " 41,\n",
       " 96,\n",
       " 301,\n",
       " 781,\n",
       " 2286,\n",
       " 6191,\n",
       " 17621,\n",
       " 48576,\n",
       " 136681,\n",
       " 379561,\n",
       " 1062966,\n",
       " 2960771,\n",
       " 8275601,\n",
       " 23079456,\n",
       " 64457461,\n",
       " 179854741,\n",
       " 502142046,\n",
       " 1401415751,\n",
       " 3912125981,\n",
       " 10919204736,\n",
       " 30479834641,\n",
       " 85075858321,\n",
       " 237475031526,\n",
       " 662854323131,\n",
       " 1850229480761,\n",
       " 5164501096416,\n",
       " 14415648500221]"
      ]
     },
     "execution_count": 43,
     "metadata": {},
     "output_type": "execute_result"
    }
   ],
   "source": [
    "rabbits"
   ]
  },
  {
   "cell_type": "code",
   "execution_count": null,
   "metadata": {},
   "outputs": [],
   "source": []
  }
 ],
 "metadata": {
  "kernelspec": {
   "display_name": "Python 3",
   "language": "python",
   "name": "python3"
  },
  "language_info": {
   "codemirror_mode": {
    "name": "ipython",
    "version": 3
   },
   "file_extension": ".py",
   "mimetype": "text/x-python",
   "name": "python",
   "nbconvert_exporter": "python",
   "pygments_lexer": "ipython3",
   "version": "3.6.4"
  }
 },
 "nbformat": 4,
 "nbformat_minor": 2
}
