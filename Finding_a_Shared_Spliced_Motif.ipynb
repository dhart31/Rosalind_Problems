{
 "cells": [
  {
   "cell_type": "code",
   "execution_count": 5,
   "metadata": {},
   "outputs": [],
   "source": [
    "from Bio import SeqIO\n",
    "import numpy as np\n",
    "seqs = list(SeqIO.parse(open(r\"C:\\Users\\Derek Hart\\Documents\\Python\\rosalind_lcsq.txt\"),'fasta'))\n",
    "a = 'PLEASANTLY'\n",
    "b = 'MEANLY'"
   ]
  },
  {
   "cell_type": "code",
   "execution_count": 2,
   "metadata": {},
   "outputs": [],
   "source": [
    "def LCSLength(s1,s2):\n",
    "    LCS = np.zeros((len(s1)+1,len(s2)+1))\n",
    "    for i in range(1,len(s1)+1):\n",
    "        for j in range(1,len(s2)+1):\n",
    "            if s1[i-1]==s2[j-1]:\n",
    "                LCS[i][j] = LCS[i-1][j-1]+1\n",
    "            else:\n",
    "                LCS[i][j] = max(LCS[i][j-1],LCS[i-1][j])\n",
    "    return LCS\n",
    "\n",
    "def readLCS(C,s1,s2,i,j):\n",
    "    if i == 0 or j == 0:\n",
    "        return \"\"\n",
    "    if s1[i-1] == s2[j-1]:\n",
    "        return readLCS(C,s1,s2,i-1,j-1)+s1[i-1]\n",
    "    if C[i][j-1] > C[i-1][j]:\n",
    "        return readLCS(C,s1,s2,i,j-1)\n",
    "    return readLCS(C,s1,s2,i-1,j)"
   ]
  },
  {
   "cell_type": "code",
   "execution_count": 6,
   "metadata": {},
   "outputs": [
    {
     "data": {
      "text/plain": [
       "array([[0., 0., 0., 0., 0., 0., 0.],\n",
       "       [0., 0., 0., 0., 0., 0., 0.],\n",
       "       [0., 0., 0., 0., 0., 1., 1.],\n",
       "       [0., 0., 1., 1., 1., 1., 1.],\n",
       "       [0., 0., 1., 2., 2., 2., 2.],\n",
       "       [0., 0., 1., 2., 2., 2., 2.],\n",
       "       [0., 0., 1., 2., 2., 2., 2.],\n",
       "       [0., 0., 1., 2., 3., 3., 3.],\n",
       "       [0., 0., 1., 2., 3., 3., 3.],\n",
       "       [0., 0., 1., 2., 3., 4., 4.],\n",
       "       [0., 0., 1., 2., 3., 4., 5.]])"
      ]
     },
     "execution_count": 6,
     "metadata": {},
     "output_type": "execute_result"
    }
   ],
   "source": [
    "LCSLength(a,b)"
   ]
  },
  {
   "cell_type": "code",
   "execution_count": 4,
   "metadata": {},
   "outputs": [
    {
     "data": {
      "text/plain": [
       "'TACCTACCCTCCCACATGATATCGTTAACATCCAAGCCTGGGTAATCAACATCGTGGGGTGGAGATACAGGAGTACTAAAGCCTTGGACCTGAGCCCACGATATTCTTGCGGGAACAGTTAATAGCACGTCGATTCGGCCCTCATAATGGCAGGAGATCCTTGCGTACTAACATTGGTAGGGCTCTTGCTAGAGGATTTTGCATTTACTTGGGTGAGCAAGGACACTCTATGCTCAACCGTCGGGCCTTAGTCTAGCGCCCCAGTAGACGCTGTTTGGTCAAAATAGCGAGGTAGGCACCAGGGCTATCTCGTGTTAACACCCTAGAATACACACCCCCCGCAACTTAAACAAATACGATTTCCGGACAAGATGTCAATCCAGCCCCCCCGATGCAAGAGTTAGGTAAAATGGAACGCTAAGTTTATGAATCTACCTAGTTGAAACGTCATCGCACGAAAAATGGTGGGCTCATTTCCAGACCCGTAATAACGTCAACGATTGCCTTTGTCCCGGTGCACTGTACTTGAGGGGGCGGCCACTCTACCGTAATGGGCCTAAGGTTCAGCC'"
      ]
     },
     "execution_count": 4,
     "metadata": {},
     "output_type": "execute_result"
    }
   ],
   "source": [
    "readLCS(LCSLength(a,b),a,b,len(a),len(b))"
   ]
  },
  {
   "cell_type": "code",
   "execution_count": 56,
   "metadata": {},
   "outputs": [
    {
     "data": {
      "text/plain": [
       "'AACCTTGG'"
      ]
     },
     "execution_count": 56,
     "metadata": {},
     "output_type": "execute_result"
    }
   ],
   "source": [
    "a"
   ]
  },
  {
   "cell_type": "code",
   "execution_count": 57,
   "metadata": {},
   "outputs": [
    {
     "data": {
      "text/plain": [
       "'ACACTGTGA'"
      ]
     },
     "execution_count": 57,
     "metadata": {},
     "output_type": "execute_result"
    }
   ],
   "source": [
    "b"
   ]
  },
  {
   "cell_type": "code",
   "execution_count": null,
   "metadata": {},
   "outputs": [],
   "source": []
  }
 ],
 "metadata": {
  "kernelspec": {
   "display_name": "Python 3",
   "language": "python",
   "name": "python3"
  },
  "language_info": {
   "codemirror_mode": {
    "name": "ipython",
    "version": 3
   },
   "file_extension": ".py",
   "mimetype": "text/x-python",
   "name": "python",
   "nbconvert_exporter": "python",
   "pygments_lexer": "ipython3",
   "version": "3.6.4"
  }
 },
 "nbformat": 4,
 "nbformat_minor": 2
}
