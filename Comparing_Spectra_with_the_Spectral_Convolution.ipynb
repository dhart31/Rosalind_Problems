{
 "cells": [
  {
   "cell_type": "code",
   "execution_count": 70,
   "metadata": {},
   "outputs": [],
   "source": [
    "from collections import Counter\n",
    "f = open(r\"C:\\Users\\Derek Hart\\Documents\\Python\\rosalind_conv.txt\")\n",
    "s1,s2 = [[float(j) for j in i.split()] for i in f.read().splitlines()]\n",
    "f.close()\n",
    "from itertools import combinations\n",
    "mdiff = []\n",
    "for m in s1:\n",
    "    for n in s2:\n",
    "        mdiff.append(round(m-n,5))\n",
    "out = Counter(mdiff).most_common(1)"
   ]
  },
  {
   "cell_type": "code",
   "execution_count": 71,
   "metadata": {},
   "outputs": [
    {
     "name": "stdout",
     "output_type": "stream",
     "text": [
      "16\n",
      "1408.61535\n"
     ]
    }
   ],
   "source": [
    "print(out[0][1])\n",
    "print(out[0][0])\n"
   ]
  },
  {
   "cell_type": "code",
   "execution_count": null,
   "metadata": {},
   "outputs": [],
   "source": []
  }
 ],
 "metadata": {
  "kernelspec": {
   "display_name": "Python 3",
   "language": "python",
   "name": "python3"
  },
  "language_info": {
   "codemirror_mode": {
    "name": "ipython",
    "version": 3
   },
   "file_extension": ".py",
   "mimetype": "text/x-python",
   "name": "python",
   "nbconvert_exporter": "python",
   "pygments_lexer": "ipython3",
   "version": "3.6.4"
  }
 },
 "nbformat": 4,
 "nbformat_minor": 2
}
