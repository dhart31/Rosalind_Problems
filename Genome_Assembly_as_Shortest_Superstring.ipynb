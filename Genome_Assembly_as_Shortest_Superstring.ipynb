{
 "cells": [
  {
   "cell_type": "code",
   "execution_count": 101,
   "metadata": {},
   "outputs": [],
   "source": [
    "from Bio import SeqIO\n",
    "import difflib\n",
    "from random import shuffle"
   ]
  },
  {
   "cell_type": "code",
   "execution_count": 183,
   "metadata": {},
   "outputs": [],
   "source": [
    "fasta = list(SeqIO.parse(open(r\"C:\\Users\\Derek Hart\\Documents\\Python\\rosalind_long.txt\"),\"fasta\"))"
   ]
  },
  {
   "cell_type": "code",
   "execution_count": 184,
   "metadata": {},
   "outputs": [],
   "source": [
    "subs = [str(i.seq) for i in fasta]"
   ]
  },
  {
   "cell_type": "code",
   "execution_count": 185,
   "metadata": {},
   "outputs": [],
   "source": [
    "#Couldn't figure this one out ended up using, https://github.com/mtarbit/Rosalind-Problems/blob/master/e025-long.py\n",
    "# I rewrote it to understand the pieces\n",
    "def find_shortest_superstring(subs,sup = ''):\n",
    "    if len(subs) == 0:\n",
    "        return sup\n",
    "    elif len(sup) == 0:\n",
    "        sup = subs.pop(0)\n",
    "        return find_shortest_superstring(subs,sup)\n",
    "    else:\n",
    "        for n in range(len(subs)):\n",
    "            sub = subs[n]\n",
    "            l = len(sub)\n",
    "            for p in range(round(l/2)):\n",
    "                q  = l - p\n",
    "                if sup.startswith(sub[p:]):\n",
    "                    subs.pop(n)\n",
    "                    return find_shortest_superstring(subs, sub[:p]+sup)\n",
    "                if sup.endswith(sub[:q]):\n",
    "                    subs.pop(n)\n",
    "                    return find_shortest_superstring(subs, sup+sub[q:])"
   ]
  },
  {
   "cell_type": "code",
   "execution_count": 187,
   "metadata": {},
   "outputs": [],
   "source": [
    "#I should explore how to generalize this question to any overlaps..."
   ]
  }
 ],
 "metadata": {
  "kernelspec": {
   "display_name": "Python 3",
   "language": "python",
   "name": "python3"
  },
  "language_info": {
   "codemirror_mode": {
    "name": "ipython",
    "version": 3
   },
   "file_extension": ".py",
   "mimetype": "text/x-python",
   "name": "python",
   "nbconvert_exporter": "python",
   "pygments_lexer": "ipython3",
   "version": "3.6.4"
  }
 },
 "nbformat": 4,
 "nbformat_minor": 2
}
