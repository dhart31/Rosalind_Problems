{
 "cells": [
  {
   "cell_type": "code",
   "execution_count": 1,
   "metadata": {},
   "outputs": [],
   "source": [
    "def myindex(lst, target):\n",
    "    for index, item in enumerate(lst):\n",
    "        if item == target:\n",
    "            return [index]\n",
    "        if isinstance(item, (list, tuple)):\n",
    "            path = myindex(item, target)\n",
    "            if path:\n",
    "                return [index] + path\n",
    "    return []\n",
    "\n",
    "def flatten(l):\n",
    "    while(any([isinstance(i,list) for i in l])):\n",
    "        l = [x for y in l for x in y]\n",
    "    return l"
   ]
  },
  {
   "cell_type": "code",
   "execution_count": 2,
   "metadata": {},
   "outputs": [
    {
     "data": {
      "text/plain": [
       "4"
      ]
     },
     "execution_count": 2,
     "metadata": {},
     "output_type": "execute_result"
    }
   ],
   "source": [
    "a = [[['a', 'c'], 'b'], [['d', 'e'], ['f', 'g']]]\n",
    "node_labels = flatten(a)\n",
    "node_idxs = []\n",
    "lengths = [0]*len(node_labels)\n",
    "for idx,i in enumerate(node_labels):\n",
    "    temp = myindex(a,i)\n",
    "    node_idxs = node_idxs+[temp]\n",
    "    lengths[idx] = len(temp)\n",
    "max_length = max(lengths)\n",
    "node_idxs = [i+[None]*(max_length-len(i)) for i in node_idxs]\n",
    "x = node_idxs[node_labels.index('d')]\n",
    "y = node_idxs[node_labels.index('g')]\n",
    "vals = [i!=j for i,j in zip(x,y)]\n",
    "mis = vals.index(True)\n",
    "sum([i is not None for i in x[mis:]+y[mis:]])"
   ]
  },
  {
   "cell_type": "code",
   "execution_count": 3,
   "metadata": {},
   "outputs": [],
   "source": [
    "\n",
    "\n",
    "def foo(s):\n",
    "    def foo_helper(level=0):\n",
    "        try:\n",
    "            token = next(tokens)\n",
    "        except StopIteration:\n",
    "            if level != 0:\n",
    "                raise Exception('missing closing paren')\n",
    "            else:\n",
    "                return []\n",
    "        if token == ')':\n",
    "            if level == 0:\n",
    "                raise Exception('missing opening paren')\n",
    "            else:\n",
    "                return []\n",
    "        elif token == '(':\n",
    "            return [foo_helper(level+1)] + foo_helper(level)\n",
    "        else:\n",
    "            return [token] + foo_helper(level)\n",
    "    tokens = iter(s)\n",
    "    return foo_helper()"
   ]
  },
  {
   "cell_type": "code",
   "execution_count": 5,
   "metadata": {},
   "outputs": [],
   "source": [
    "s=\"((((((((((((((Acanthis_salei,Rhabdophis_parahybana),Parus_stellatum),(((((((((((((((((((((Accipiter_corticale,(Alaus_lutris,Notophthalmus_grandis)),Limosa_pelagicus),Arctomys_erythropus),Chettussia_leucoryphus),((Chelus_leucotus,Dipus_armeniacus),((Lampropeltis_heliaca,Phoca_hemionus),Paradoxornis_gemmicincta))),Leptopelis_chrysargos),(((Aphonopelma_situla,Minipterus_dentata),(Avicularia_anser,Pratincola_diffidens)),Kaloula_glottis)),Callipogon_rufus),Mabuya_guttifer),(Megaptera_ornata,Tupinambus_rufus)),(((Equus_hypomelus,Litoria_helvetica),Hyperoodon_squamatus),Spermophilus_emilia)),(Passer_monedula,Phormictopus_middendorffi)),Ruticilla_pygargus),Butastur_nasicus),Vulpes_ruthveni),Oxyura_japonensis),Seokia_serpentina),((((Accipiter_ornata,Leptopelis_semipalmatus),((((Almo_keyzerlingii,Moschus_elegans),Aplopeltura_sphenocercus),Notophthalmus_Jankowskii),Kassina_leucotus)),(Lanius_verrucosus,Leiurus_sebae)),Columba_tarda)),Opheodrys_dexter),Numenius_floridana),(((Alectoris_kazanakowi,Cinclus_dentata),Scolopendra_zenobia),(Archispirostreptus_versicolor,(Callipogon_erythrogastra,Pelodytes_macqueni))))),((((Allobates_doriae,((((Chlamydotis_glottis,Rosalia_caniceps),((Haliaetus_tuberculosus,Parus_monorhis),Tiliqua_kurilensis)),Mareca_longipennis),(((Damon_parahybana,(Kinixys_tadorna,Ptychozoon_dives)),Parus_terrestris),Spalerosophis_battersbyi))),Rosalia_undulata),Avicularia_xanthocheilus),Hemitheconyx_ruficollis)),(Lyrurus_cyanochloris,Nyctixalus_bobac)),(Cuculus_aspera,Teratoscincus_deserti)),((Damon_aleutica,Megophrys_sinensis),((Ketupa_amboinensis,Vulpanser_aegyptia),Podoces_parahybana))),Hysterocrates_rutila),Rangifer_hypoleucos),Cardiocranius_lesueurii),Meles_hungaricus),(Alauda_leucopsis,Turdus_stellio)),Nemorhaedus_cinereus),(Acanthoceros_radiata,(Dendrelaphis_bicoloratum,(Erpeton_gallicus,Siniperca_tridactylum))),(Acanthogonatus_czerskii,(((((Acipenser_manul,(((Chondropython_amboinensis,Teratolepis_oedicnemus),Eunectes_virgo),Nyroca_elegans)),Mabuya_deminutus),(Ovis_ornata,Picus_bengkuluensis)),Gypaetus_arcticus),Xenopeltis_platyrhinos)))\";"
   ]
  },
  {
   "cell_type": "code",
   "execution_count": 8,
   "metadata": {},
   "outputs": [
    {
     "data": {
      "text/plain": [
       "['((((((((((((((Acanthis_salei,Rhabdophis_parahybana),Parus_stellatum),(((((((((((((((((((((Accipiter_corticale,(Alaus_lutris,Notophthalmus_grandis)),Limosa_pelagicus),Arctomys_erythropus),Chettussia_leucoryphus),((Chelus_leucotus,Dipus_armeniacus),((Lampropeltis_heliaca,Phoca_hemionus),Paradoxornis_gemmicincta))),Leptopelis_chrysargos),(((Aphonopelma_situla,Minipterus_dentata),(Avicularia_anser,Pratincola_diffidens)),Kaloula_glottis)),Callipogon_rufus),Mabuya_guttifer),(Megaptera_ornata,Tupinambus_rufus)),(((Equus_hypomelus,Litoria_helvetica),Hyperoodon_squamatus),Spermophilus_emilia)),(Passer_monedula,Phormictopus_middendorffi)),Ruticilla_pygargus),Butastur_nasicus),Vulpes_ruthveni),Oxyura_japonensis),Seokia_serpentina),((((Accipiter_ornata,Leptopelis_semipalmatus),((((Almo_keyzerlingii,Moschus_elegans),Aplopeltura_sphenocercus),Notophthalmus_Jankowskii),Kassina_leucotus)),(Lanius_verrucosus,Leiurus_sebae)),Columba_tarda)),Opheodrys_dexter),Numenius_floridana),(((Alectoris_kazanakowi,Cinclus_dentata),Scolopendra_zenobia),(Archispirostreptus_versicolor,(Callipogon_erythrogastra,Pelodytes_macqueni))))),((((Allobates_doriae,((((Chlamydotis_glottis,Rosalia_caniceps),((Haliaetus_tuberculosus,Parus_monorhis),Tiliqua_kurilensis)),Mareca_longipennis),(((Damon_parahybana,(Kinixys_tadorna,Ptychozoon_dives)),Parus_terrestris),Spalerosophis_battersbyi))),Rosalia_undulata),Avicularia_xanthocheilus),Hemitheconyx_ruficollis)),(Lyrurus_cyanochloris,Nyctixalus_bobac)),(Cuculus_aspera,Teratoscincus_deserti)),((Damon_aleutica,Megophrys_sinensis),((Ketupa_amboinensis,Vulpanser_aegyptia),Podoces_parahybana))),Hysterocrates_rutila),Rangifer_hypoleucos),Cardiocranius_lesueurii),Meles_hungaricus),(Alauda_leucopsis,Turdus_stellio)),Nemorhaedus_cinereus),(Acanthoceros_radiata,(Dendrelaphis_bicoloratum,(Erpeton_gallicus,Siniperca_tridactylum))),(Acanthogonatus_czerskii,(((((Acipenser_manul,(((Chondropython_amboinensis,Teratolepis_oedicnemus),Eunectes_virgo),Nyroca_elegans)),Mabuya_deminutus),(Ovis_ornata,Picus_bengkuluensis)),Gypaetus_arcticus),Xenopeltis_platyrhinos)))']"
      ]
     },
     "execution_count": 8,
     "metadata": {},
     "output_type": "execute_result"
    }
   ],
   "source": [
    "s.strip().split('\\n\\n')"
   ]
  },
  {
   "cell_type": "code",
   "execution_count": 35,
   "metadata": {},
   "outputs": [],
   "source": [
    "a = r'(((a, c), b), ((d, e), (f, g)))'"
   ]
  },
  {
   "cell_type": "code",
   "execution_count": 29,
   "metadata": {},
   "outputs": [],
   "source": [
    "import re\n",
    "p = re.compile(r'[a-z]')"
   ]
  },
  {
   "cell_type": "code",
   "execution_count": 36,
   "metadata": {},
   "outputs": [
    {
     "ename": "SyntaxError",
     "evalue": "unexpected character after line continuation character (<ipython-input-36-c4ac301b09d5>, line 1)",
     "output_type": "error",
     "traceback": [
      "\u001b[1;36m  File \u001b[1;32m\"<ipython-input-36-c4ac301b09d5>\"\u001b[1;36m, line \u001b[1;32m1\u001b[0m\n\u001b[1;33m    re.sub(r'[a-z]',r''\\1'',a)\u001b[0m\n\u001b[1;37m                              ^\u001b[0m\n\u001b[1;31mSyntaxError\u001b[0m\u001b[1;31m:\u001b[0m unexpected character after line continuation character\n"
     ]
    }
   ],
   "source": [
    "re.sub(r'[a-z]',r''\\1'',a)"
   ]
  },
  {
   "cell_type": "code",
   "execution_count": 34,
   "metadata": {},
   "outputs": [
    {
     "data": {
      "text/plain": [
       "'(((a, c), b), ((d, e), (f, g)))'"
      ]
     },
     "execution_count": 34,
     "metadata": {},
     "output_type": "execute_result"
    }
   ],
   "source": [
    "a"
   ]
  },
  {
   "cell_type": "code",
   "execution_count": 23,
   "metadata": {},
   "outputs": [
    {
     "ename": "ValueError",
     "evalue": "malformed node or string: <_ast.Name object at 0x00000203B4B53BA8>",
     "output_type": "error",
     "traceback": [
      "\u001b[1;31m---------------------------------------------------------------------------\u001b[0m",
      "\u001b[1;31mValueError\u001b[0m                                Traceback (most recent call last)",
      "\u001b[1;32m<ipython-input-23-008f2f4c6c51>\u001b[0m in \u001b[0;36m<module>\u001b[1;34m()\u001b[0m\n\u001b[1;32m----> 1\u001b[1;33m \u001b[0mast\u001b[0m\u001b[1;33m.\u001b[0m\u001b[0mliteral_eval\u001b[0m\u001b[1;33m(\u001b[0m\u001b[0ma\u001b[0m\u001b[1;33m)\u001b[0m\u001b[1;33m\u001b[0m\u001b[0m\n\u001b[0m",
      "\u001b[1;32mC:\\Program Files\\Anaconda3\\lib\\ast.py\u001b[0m in \u001b[0;36mliteral_eval\u001b[1;34m(node_or_string)\u001b[0m\n\u001b[0;32m     83\u001b[0m                     \u001b[1;32mreturn\u001b[0m \u001b[0mleft\u001b[0m \u001b[1;33m-\u001b[0m \u001b[0mright\u001b[0m\u001b[1;33m\u001b[0m\u001b[0m\n\u001b[0;32m     84\u001b[0m         \u001b[1;32mraise\u001b[0m \u001b[0mValueError\u001b[0m\u001b[1;33m(\u001b[0m\u001b[1;34m'malformed node or string: '\u001b[0m \u001b[1;33m+\u001b[0m \u001b[0mrepr\u001b[0m\u001b[1;33m(\u001b[0m\u001b[0mnode\u001b[0m\u001b[1;33m)\u001b[0m\u001b[1;33m)\u001b[0m\u001b[1;33m\u001b[0m\u001b[0m\n\u001b[1;32m---> 85\u001b[1;33m     \u001b[1;32mreturn\u001b[0m \u001b[0m_convert\u001b[0m\u001b[1;33m(\u001b[0m\u001b[0mnode_or_string\u001b[0m\u001b[1;33m)\u001b[0m\u001b[1;33m\u001b[0m\u001b[0m\n\u001b[0m\u001b[0;32m     86\u001b[0m \u001b[1;33m\u001b[0m\u001b[0m\n\u001b[0;32m     87\u001b[0m \u001b[1;33m\u001b[0m\u001b[0m\n",
      "\u001b[1;32mC:\\Program Files\\Anaconda3\\lib\\ast.py\u001b[0m in \u001b[0;36m_convert\u001b[1;34m(node)\u001b[0m\n\u001b[0;32m     57\u001b[0m             \u001b[1;32mreturn\u001b[0m \u001b[0mnode\u001b[0m\u001b[1;33m.\u001b[0m\u001b[0mn\u001b[0m\u001b[1;33m\u001b[0m\u001b[0m\n\u001b[0;32m     58\u001b[0m         \u001b[1;32melif\u001b[0m \u001b[0misinstance\u001b[0m\u001b[1;33m(\u001b[0m\u001b[0mnode\u001b[0m\u001b[1;33m,\u001b[0m \u001b[0mTuple\u001b[0m\u001b[1;33m)\u001b[0m\u001b[1;33m:\u001b[0m\u001b[1;33m\u001b[0m\u001b[0m\n\u001b[1;32m---> 59\u001b[1;33m             \u001b[1;32mreturn\u001b[0m \u001b[0mtuple\u001b[0m\u001b[1;33m(\u001b[0m\u001b[0mmap\u001b[0m\u001b[1;33m(\u001b[0m\u001b[0m_convert\u001b[0m\u001b[1;33m,\u001b[0m \u001b[0mnode\u001b[0m\u001b[1;33m.\u001b[0m\u001b[0melts\u001b[0m\u001b[1;33m)\u001b[0m\u001b[1;33m)\u001b[0m\u001b[1;33m\u001b[0m\u001b[0m\n\u001b[0m\u001b[0;32m     60\u001b[0m         \u001b[1;32melif\u001b[0m \u001b[0misinstance\u001b[0m\u001b[1;33m(\u001b[0m\u001b[0mnode\u001b[0m\u001b[1;33m,\u001b[0m \u001b[0mList\u001b[0m\u001b[1;33m)\u001b[0m\u001b[1;33m:\u001b[0m\u001b[1;33m\u001b[0m\u001b[0m\n\u001b[0;32m     61\u001b[0m             \u001b[1;32mreturn\u001b[0m \u001b[0mlist\u001b[0m\u001b[1;33m(\u001b[0m\u001b[0mmap\u001b[0m\u001b[1;33m(\u001b[0m\u001b[0m_convert\u001b[0m\u001b[1;33m,\u001b[0m \u001b[0mnode\u001b[0m\u001b[1;33m.\u001b[0m\u001b[0melts\u001b[0m\u001b[1;33m)\u001b[0m\u001b[1;33m)\u001b[0m\u001b[1;33m\u001b[0m\u001b[0m\n",
      "\u001b[1;32mC:\\Program Files\\Anaconda3\\lib\\ast.py\u001b[0m in \u001b[0;36m_convert\u001b[1;34m(node)\u001b[0m\n\u001b[0;32m     57\u001b[0m             \u001b[1;32mreturn\u001b[0m \u001b[0mnode\u001b[0m\u001b[1;33m.\u001b[0m\u001b[0mn\u001b[0m\u001b[1;33m\u001b[0m\u001b[0m\n\u001b[0;32m     58\u001b[0m         \u001b[1;32melif\u001b[0m \u001b[0misinstance\u001b[0m\u001b[1;33m(\u001b[0m\u001b[0mnode\u001b[0m\u001b[1;33m,\u001b[0m \u001b[0mTuple\u001b[0m\u001b[1;33m)\u001b[0m\u001b[1;33m:\u001b[0m\u001b[1;33m\u001b[0m\u001b[0m\n\u001b[1;32m---> 59\u001b[1;33m             \u001b[1;32mreturn\u001b[0m \u001b[0mtuple\u001b[0m\u001b[1;33m(\u001b[0m\u001b[0mmap\u001b[0m\u001b[1;33m(\u001b[0m\u001b[0m_convert\u001b[0m\u001b[1;33m,\u001b[0m \u001b[0mnode\u001b[0m\u001b[1;33m.\u001b[0m\u001b[0melts\u001b[0m\u001b[1;33m)\u001b[0m\u001b[1;33m)\u001b[0m\u001b[1;33m\u001b[0m\u001b[0m\n\u001b[0m\u001b[0;32m     60\u001b[0m         \u001b[1;32melif\u001b[0m \u001b[0misinstance\u001b[0m\u001b[1;33m(\u001b[0m\u001b[0mnode\u001b[0m\u001b[1;33m,\u001b[0m \u001b[0mList\u001b[0m\u001b[1;33m)\u001b[0m\u001b[1;33m:\u001b[0m\u001b[1;33m\u001b[0m\u001b[0m\n\u001b[0;32m     61\u001b[0m             \u001b[1;32mreturn\u001b[0m \u001b[0mlist\u001b[0m\u001b[1;33m(\u001b[0m\u001b[0mmap\u001b[0m\u001b[1;33m(\u001b[0m\u001b[0m_convert\u001b[0m\u001b[1;33m,\u001b[0m \u001b[0mnode\u001b[0m\u001b[1;33m.\u001b[0m\u001b[0melts\u001b[0m\u001b[1;33m)\u001b[0m\u001b[1;33m)\u001b[0m\u001b[1;33m\u001b[0m\u001b[0m\n",
      "\u001b[1;32mC:\\Program Files\\Anaconda3\\lib\\ast.py\u001b[0m in \u001b[0;36m_convert\u001b[1;34m(node)\u001b[0m\n\u001b[0;32m     57\u001b[0m             \u001b[1;32mreturn\u001b[0m \u001b[0mnode\u001b[0m\u001b[1;33m.\u001b[0m\u001b[0mn\u001b[0m\u001b[1;33m\u001b[0m\u001b[0m\n\u001b[0;32m     58\u001b[0m         \u001b[1;32melif\u001b[0m \u001b[0misinstance\u001b[0m\u001b[1;33m(\u001b[0m\u001b[0mnode\u001b[0m\u001b[1;33m,\u001b[0m \u001b[0mTuple\u001b[0m\u001b[1;33m)\u001b[0m\u001b[1;33m:\u001b[0m\u001b[1;33m\u001b[0m\u001b[0m\n\u001b[1;32m---> 59\u001b[1;33m             \u001b[1;32mreturn\u001b[0m \u001b[0mtuple\u001b[0m\u001b[1;33m(\u001b[0m\u001b[0mmap\u001b[0m\u001b[1;33m(\u001b[0m\u001b[0m_convert\u001b[0m\u001b[1;33m,\u001b[0m \u001b[0mnode\u001b[0m\u001b[1;33m.\u001b[0m\u001b[0melts\u001b[0m\u001b[1;33m)\u001b[0m\u001b[1;33m)\u001b[0m\u001b[1;33m\u001b[0m\u001b[0m\n\u001b[0m\u001b[0;32m     60\u001b[0m         \u001b[1;32melif\u001b[0m \u001b[0misinstance\u001b[0m\u001b[1;33m(\u001b[0m\u001b[0mnode\u001b[0m\u001b[1;33m,\u001b[0m \u001b[0mList\u001b[0m\u001b[1;33m)\u001b[0m\u001b[1;33m:\u001b[0m\u001b[1;33m\u001b[0m\u001b[0m\n\u001b[0;32m     61\u001b[0m             \u001b[1;32mreturn\u001b[0m \u001b[0mlist\u001b[0m\u001b[1;33m(\u001b[0m\u001b[0mmap\u001b[0m\u001b[1;33m(\u001b[0m\u001b[0m_convert\u001b[0m\u001b[1;33m,\u001b[0m \u001b[0mnode\u001b[0m\u001b[1;33m.\u001b[0m\u001b[0melts\u001b[0m\u001b[1;33m)\u001b[0m\u001b[1;33m)\u001b[0m\u001b[1;33m\u001b[0m\u001b[0m\n",
      "\u001b[1;32mC:\\Program Files\\Anaconda3\\lib\\ast.py\u001b[0m in \u001b[0;36m_convert\u001b[1;34m(node)\u001b[0m\n\u001b[0;32m     82\u001b[0m                 \u001b[1;32melse\u001b[0m\u001b[1;33m:\u001b[0m\u001b[1;33m\u001b[0m\u001b[0m\n\u001b[0;32m     83\u001b[0m                     \u001b[1;32mreturn\u001b[0m \u001b[0mleft\u001b[0m \u001b[1;33m-\u001b[0m \u001b[0mright\u001b[0m\u001b[1;33m\u001b[0m\u001b[0m\n\u001b[1;32m---> 84\u001b[1;33m         \u001b[1;32mraise\u001b[0m \u001b[0mValueError\u001b[0m\u001b[1;33m(\u001b[0m\u001b[1;34m'malformed node or string: '\u001b[0m \u001b[1;33m+\u001b[0m \u001b[0mrepr\u001b[0m\u001b[1;33m(\u001b[0m\u001b[0mnode\u001b[0m\u001b[1;33m)\u001b[0m\u001b[1;33m)\u001b[0m\u001b[1;33m\u001b[0m\u001b[0m\n\u001b[0m\u001b[0;32m     85\u001b[0m     \u001b[1;32mreturn\u001b[0m \u001b[0m_convert\u001b[0m\u001b[1;33m(\u001b[0m\u001b[0mnode_or_string\u001b[0m\u001b[1;33m)\u001b[0m\u001b[1;33m\u001b[0m\u001b[0m\n\u001b[0;32m     86\u001b[0m \u001b[1;33m\u001b[0m\u001b[0m\n",
      "\u001b[1;31mValueError\u001b[0m: malformed node or string: <_ast.Name object at 0x00000203B4B53BA8>"
     ]
    }
   ],
   "source": [
    "ast.literal_eval(a)"
   ]
  },
  {
   "cell_type": "code",
   "execution_count": 24,
   "metadata": {},
   "outputs": [
    {
     "data": {
      "text/plain": [
       "'(((a, c), b), ((d, e), (f, g)))'"
      ]
     },
     "execution_count": 24,
     "metadata": {},
     "output_type": "execute_result"
    }
   ],
   "source": [
    "a"
   ]
  },
  {
   "cell_type": "code",
   "execution_count": 27,
   "metadata": {},
   "outputs": [],
   "source": [
    "x = ((1,2),(3,4,(5,6)))"
   ]
  },
  {
   "cell_type": "code",
   "execution_count": 28,
   "metadata": {},
   "outputs": [
    {
     "data": {
      "text/plain": [
       "((1, 2), (3, 4, (5, 6)))"
      ]
     },
     "execution_count": 28,
     "metadata": {},
     "output_type": "execute_result"
    }
   ],
   "source": [
    "x"
   ]
  },
  {
   "cell_type": "code",
   "execution_count": null,
   "metadata": {},
   "outputs": [],
   "source": []
  }
 ],
 "metadata": {
  "kernelspec": {
   "display_name": "Python 3",
   "language": "python",
   "name": "python3"
  },
  "language_info": {
   "codemirror_mode": {
    "name": "ipython",
    "version": 3
   },
   "file_extension": ".py",
   "mimetype": "text/x-python",
   "name": "python",
   "nbconvert_exporter": "python",
   "pygments_lexer": "ipython3",
   "version": "3.6.4"
  }
 },
 "nbformat": 4,
 "nbformat_minor": 2
}
