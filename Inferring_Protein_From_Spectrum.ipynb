{
 "cells": [
  {
   "cell_type": "code",
   "execution_count": 111,
   "metadata": {},
   "outputs": [],
   "source": [
    "s = \"\"\"A   71.03711\n",
    "C   103.00919\n",
    "D   115.02694\n",
    "E   129.04259\n",
    "F   147.06841\n",
    "G   57.02146\n",
    "H   137.05891\n",
    "I   113.08406\n",
    "K   128.09496\n",
    "L   113.08406\n",
    "M   131.04049\n",
    "N   114.04293\n",
    "P   97.05276\n",
    "Q   128.05858\n",
    "R   156.10111\n",
    "S   87.03203\n",
    "T   101.04768\n",
    "V   99.06841\n",
    "W   186.07931\n",
    "Y   163.06333\"\"\".split()\n",
    "m = dict(zip([round(float(i),4) for i in s[1::2]],s[::2]))"
   ]
  },
  {
   "cell_type": "code",
   "execution_count": 113,
   "metadata": {},
   "outputs": [
    {
     "name": "stdout",
     "output_type": "stream",
     "text": [
      "HWGSVEVGRRRCLLAVEMLYYTYLVALWSMDKFRKPPKNELLLDHGVGFPFLDCYMMCFLQVLMRGFVKYQMYPEWAWYSHCWKEPLYCH\n"
     ]
    }
   ],
   "source": [
    "f = open(r\"C:\\Users\\Derek Hart\\Documents\\Python\\rosalind_spec.txt\")\n",
    "d = [float(i) for i in f.read().splitlines()]\n",
    "f.close()\n",
    "p = [round(i - j,4) for i,j in zip(d[1:],d[:-1])]\n",
    "tol = 1e-03\n",
    "pstr = \"\"\n",
    "for weight in p:\n",
    "    pstr+= m[weight]\n",
    "print(pstr)"
   ]
  },
  {
   "cell_type": "code",
   "execution_count": null,
   "metadata": {},
   "outputs": [],
   "source": []
  }
 ],
 "metadata": {
  "kernelspec": {
   "display_name": "Python 3",
   "language": "python",
   "name": "python3"
  },
  "language_info": {
   "codemirror_mode": {
    "name": "ipython",
    "version": 3
   },
   "file_extension": ".py",
   "mimetype": "text/x-python",
   "name": "python",
   "nbconvert_exporter": "python",
   "pygments_lexer": "ipython3",
   "version": "3.6.4"
  }
 },
 "nbformat": 4,
 "nbformat_minor": 2
}
