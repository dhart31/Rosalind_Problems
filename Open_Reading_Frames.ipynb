{
 "cells": [
  {
   "cell_type": "code",
   "execution_count": 90,
   "metadata": {},
   "outputs": [],
   "source": [
    "import re\n",
    "from Bio import SeqIO"
   ]
  },
  {
   "cell_type": "code",
   "execution_count": 1,
   "metadata": {},
   "outputs": [],
   "source": [
    "data = open(r\"C:\\Users\\Derek Hart\\Documents\\Python\\RNAcodontable.txt\").read()\n",
    "data = data.split('\\n')\n",
    "x = [x.split(' ') for x in data if x] \n",
    "rnacodons = []\n",
    "for n in x: \n",
    "    n = [i for i in n if i]\n",
    "    rnacodons.append(n)\n",
    "rnacodons = dict(rnacodons)"
   ]
  },
  {
   "cell_type": "code",
   "execution_count": 215,
   "metadata": {},
   "outputs": [],
   "source": [
    "fasta=list(SeqIO.parse(open(r\"C:\\Users\\Derek Hart\\Documents\\Python\\rosalind_orf.txt\"),'fasta'))"
   ]
  },
  {
   "cell_type": "code",
   "execution_count": 219,
   "metadata": {},
   "outputs": [],
   "source": [
    "s = str(fasta[0].seq)\n",
    "rs = str(fasta[0].seq.reverse_complement())\n",
    "\n",
    "def candidate_protein_strings(seq):\n",
    "    seq = str(seq).replace('T','U')\n",
    "    starts = [m.start() for m in re.finditer('AUG', seq)] #find ORF start location\n",
    "    pStr=[[rnacodons[seq[i:i+3]] for i in range(j,len(seq)-3,3)] for j in starts] #get protein strings after start loc\n",
    "    return [''.join(x[:x.index('Stop')]) for x in pStr if 'Stop' in x] #return candidate strings between start & stop\n",
    "x=set(candidate_protein_strings(s)+candidate_protein_strings(rs))"
   ]
  },
  {
   "cell_type": "code",
   "execution_count": 221,
   "metadata": {},
   "outputs": [
    {
     "name": "stdout",
     "output_type": "stream",
     "text": [
      "MRAPRGRYEGRGRRLHTGTSSERMSFAGCFAPCN\n",
      "MNPVTILLFIQYALWLIPAKVIQPTVIVSIST\n",
      "MIPCVHSGTDSRRPF\n",
      "MSRKMVPFR\n",
      "MLTITVGCITFAGISQSAY\n",
      "MVVIVLAP\n",
      "MNRSL\n",
      "MLG\n",
      "MGIPEFSPKCTCGFYAHAGAKGQV\n",
      "MKVRRGVGNRSHCGHRVSS\n",
      "MRDEADVCIPVRRRRE\n",
      "MR\n",
      "MADK\n",
      "MCIKSAGALRAKFGYPHDARLMNRSL\n",
      "MVTGFIDS\n",
      "MSFAGCFAPCN\n",
      "MHMRAPRGRYEGRGRRLHTGTSSERMSFAGCFAPCN\n",
      "MAAKNRPHPGTSSEFTAIYPP\n",
      "MDSKLKRS\n",
      "MVPFR\n",
      "MMLG\n",
      "M\n",
      "MGLFSAGTFGCVRAGKLIPEITDLPLNLHEVVKEPAR\n",
      "MQ\n",
      "MITL\n",
      "MLLLHCSSVTGCKTACKTHSLRRRTGMQTSASSLIPAPWRPHVHKIRRCT\n",
      "MHFG\n",
      "MQTSASSLIPAPWRPHVHKIRRCT\n"
     ]
    }
   ],
   "source": [
    "for i in x:\n",
    "    print(i)"
   ]
  },
  {
   "cell_type": "code",
   "execution_count": null,
   "metadata": {},
   "outputs": [],
   "source": [
    "rs"
   ]
  }
 ],
 "metadata": {
  "kernelspec": {
   "display_name": "Python 3",
   "language": "python",
   "name": "python3"
  },
  "language_info": {
   "codemirror_mode": {
    "name": "ipython",
    "version": 3
   },
   "file_extension": ".py",
   "mimetype": "text/x-python",
   "name": "python",
   "nbconvert_exporter": "python",
   "pygments_lexer": "ipython3",
   "version": "3.6.4"
  }
 },
 "nbformat": 4,
 "nbformat_minor": 2
}
