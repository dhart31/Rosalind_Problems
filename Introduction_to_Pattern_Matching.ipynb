{
 "cells": [
  {
   "cell_type": "code",
   "execution_count": 1,
   "metadata": {},
   "outputs": [],
   "source": [
    "def make_trie(*words):\n",
    "    root = dict()\n",
    "    for word in words:\n",
    "        current_dict = root\n",
    "        for letter in word:\n",
    "            current_dict = current_dict.setdefault(letter,{})\n",
    "            print(root)\n",
    "    return root"
   ]
  },
  {
   "cell_type": "code",
   "execution_count": 2,
   "metadata": {},
   "outputs": [
    {
     "name": "stdout",
     "output_type": "stream",
     "text": [
      "{'A': {}}\n",
      "{'A': {'T': {}}}\n",
      "{'A': {'T': {'A': {}}}}\n",
      "{'A': {'T': {'A': {'G': {}}}}}\n",
      "{'A': {'T': {'A': {'G': {'A': {}}}}}}\n",
      "{'A': {'T': {'A': {'G': {'A': {}}}}}}\n",
      "{'A': {'T': {'A': {'G': {'A': {}}}}}}\n",
      "{'A': {'T': {'A': {'G': {'A': {}}}, 'C': {}}}}\n",
      "{'A': {'T': {'A': {'G': {'A': {}}}, 'C': {}}}, 'G': {}}\n",
      "{'A': {'T': {'A': {'G': {'A': {}}}, 'C': {}}}, 'G': {'A': {}}}\n",
      "{'A': {'T': {'A': {'G': {'A': {}}}, 'C': {}}}, 'G': {'A': {'T': {}}}}\n"
     ]
    }
   ],
   "source": [
    "d = make_trie('ATAGA','ATC','GAT')"
   ]
  },
  {
   "cell_type": "code",
   "execution_count": 72,
   "metadata": {},
   "outputs": [],
   "source": [
    "def readTrie(d,i = 1,j = 2):\n",
    "    if d:\n",
    "        for elem in d:\n",
    "            print(i,j)\n",
    "            j = readTrie(d[elem],i+1,j+1)\n",
    "    return j"
   ]
  },
  {
   "cell_type": "code",
   "execution_count": 73,
   "metadata": {},
   "outputs": [
    {
     "name": "stdout",
     "output_type": "stream",
     "text": [
      "1 2\n",
      "2 3\n",
      "3 4\n",
      "4 5\n",
      "5 6\n",
      "3 7\n",
      "1 8\n",
      "2 9\n",
      "3 10\n"
     ]
    },
    {
     "data": {
      "text/plain": [
       "11"
      ]
     },
     "execution_count": 73,
     "metadata": {},
     "output_type": "execute_result"
    }
   ],
   "source": [
    "readTrie(d)"
   ]
  },
  {
   "cell_type": "code",
   "execution_count": 29,
   "metadata": {},
   "outputs": [
    {
     "data": {
      "text/plain": [
       "{'hello': 7}"
      ]
     },
     "execution_count": 29,
     "metadata": {},
     "output_type": "execute_result"
    }
   ],
   "source": [
    "b"
   ]
  },
  {
   "cell_type": "code",
   "execution_count": 30,
   "metadata": {},
   "outputs": [
    {
     "data": {
      "text/plain": [
       "{'hello': 7}"
      ]
     },
     "execution_count": 30,
     "metadata": {},
     "output_type": "execute_result"
    }
   ],
   "source": [
    "a"
   ]
  },
  {
   "cell_type": "code",
   "execution_count": null,
   "metadata": {},
   "outputs": [],
   "source": []
  }
 ],
 "metadata": {
  "kernelspec": {
   "display_name": "Python 3",
   "language": "python",
   "name": "python3"
  },
  "language_info": {
   "codemirror_mode": {
    "name": "ipython",
    "version": 3
   },
   "file_extension": ".py",
   "mimetype": "text/x-python",
   "name": "python",
   "nbconvert_exporter": "python",
   "pygments_lexer": "ipython3",
   "version": "3.6.4"
  }
 },
 "nbformat": 4,
 "nbformat_minor": 2
}
