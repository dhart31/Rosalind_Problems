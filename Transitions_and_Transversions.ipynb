{
 "cells": [
  {
   "cell_type": "code",
   "execution_count": 71,
   "metadata": {},
   "outputs": [],
   "source": [
    "from Bio import SeqIO\n",
    "\n",
    "fasta = list(SeqIO.parse(open(r\"C:\\Users\\Derek Hart\\Documents\\Python\\rosalind_tran.txt\"),'fasta'))"
   ]
  },
  {
   "cell_type": "code",
   "execution_count": 73,
   "metadata": {},
   "outputs": [],
   "source": [
    "a = str(fasta[0].seq)\n",
    "b = str(fasta[1].seq)"
   ]
  },
  {
   "cell_type": "code",
   "execution_count": 76,
   "metadata": {},
   "outputs": [],
   "source": [
    "def ttRatio(s1,s2):\n",
    "    transitions = 0\n",
    "    transversions = 0\n",
    "    transpairs = ['AG','GA','TC','CT']\n",
    "    for n in range(len(s1)):\n",
    "        if s1[n] == s2[n]:\n",
    "            continue\n",
    "        elif any([(s1[n]+s2[n]) == i for i in transpairs]):\n",
    "            transitions +=1\n",
    "        else:\n",
    "            transversions +=1\n",
    "    return transitions/transversions"
   ]
  },
  {
   "cell_type": "code",
   "execution_count": 77,
   "metadata": {},
   "outputs": [
    {
     "name": "stdout",
     "output_type": "stream",
     "text": [
      "1.9770114942528736\n"
     ]
    }
   ],
   "source": [
    "print(ttRatio(b,a))"
   ]
  }
 ],
 "metadata": {
  "kernelspec": {
   "display_name": "Python 3",
   "language": "python",
   "name": "python3"
  },
  "language_info": {
   "codemirror_mode": {
    "name": "ipython",
    "version": 3
   },
   "file_extension": ".py",
   "mimetype": "text/x-python",
   "name": "python",
   "nbconvert_exporter": "python",
   "pygments_lexer": "ipython3",
   "version": "3.6.4"
  }
 },
 "nbformat": 4,
 "nbformat_minor": 2
}
