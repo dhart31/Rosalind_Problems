{
 "cells": [
  {
   "cell_type": "code",
   "execution_count": 24,
   "metadata": {},
   "outputs": [
    {
     "name": "stdout",
     "output_type": "stream",
     "text": [
      "-73.466 -63.236 -59.144 -57.566 -54.455 -53.608 -52.435 -52.357 -52.776 -53.355 -56.062 -60.317 -64.787 -73.482 \n"
     ]
    }
   ],
   "source": [
    "import math\n",
    "s='TCGGGAGTTCGATTCATGAACGGGTTCTACCCGCCTAATATCGTCGGCCTGCTTAACAAACTTTCTTTCACGAGCCGCTCTAGGCTG'\n",
    "plist = [0.098, 0.181, 0.239, 0.269, 0.354, 0.390, 0.485, 0.520, 0.591, 0.630, 0.726, 0.806, 0.858, 0.918]\n",
    "logpStr = ''\n",
    "for p in plist:\n",
    "    logp = 0\n",
    "    for l in s:\n",
    "        if l =='A' or l=='T':\n",
    "            logp += math.log((1-p)/2,10)\n",
    "        else:\n",
    "            logp += math.log(p/2,10)\n",
    "    logpStr += str(round(logp,3)) + ' '\n",
    "print(logpStr)"
   ]
  },
  {
   "cell_type": "code",
   "execution_count": null,
   "metadata": {},
   "outputs": [],
   "source": []
  }
 ],
 "metadata": {
  "kernelspec": {
   "display_name": "Python 3",
   "language": "python",
   "name": "python3"
  },
  "language_info": {
   "codemirror_mode": {
    "name": "ipython",
    "version": 3
   },
   "file_extension": ".py",
   "mimetype": "text/x-python",
   "name": "python",
   "nbconvert_exporter": "python",
   "pygments_lexer": "ipython3",
   "version": "3.6.4"
  }
 },
 "nbformat": 4,
 "nbformat_minor": 2
}
