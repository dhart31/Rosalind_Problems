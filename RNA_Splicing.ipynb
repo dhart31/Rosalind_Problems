{
 "cells": [
  {
   "cell_type": "code",
   "execution_count": 11,
   "metadata": {},
   "outputs": [],
   "source": [
    "from Bio import SeqIO"
   ]
  },
  {
   "cell_type": "code",
   "execution_count": 71,
   "metadata": {},
   "outputs": [],
   "source": [
    "fasta = list(SeqIO.parse(open(r\"C:\\Users\\Derek Hart\\Documents\\Python\\rosalind_splc.txt\"),'fasta'))"
   ]
  },
  {
   "cell_type": "code",
   "execution_count": 80,
   "metadata": {},
   "outputs": [],
   "source": [
    "data = open(r\"C:\\Users\\Derek Hart\\Documents\\Python\\RNAcodontable.txt\").read()\n",
    "data = data.split('\\n')\n",
    "x = [x.split(' ') for x in data if x] \n",
    "rnacodons = []\n",
    "for n in x: \n",
    "    n = [i for i in n if i]\n",
    "    rnacodons.append(n)\n",
    "rnacodons = dict(rnacodons)"
   ]
  },
  {
   "cell_type": "code",
   "execution_count": 81,
   "metadata": {},
   "outputs": [],
   "source": [
    "s = [str(i.seq) for i in fasta]"
   ]
  },
  {
   "cell_type": "code",
   "execution_count": 82,
   "metadata": {},
   "outputs": [],
   "source": [
    "seq = s[0]\n",
    "introns = s[1:]\n",
    "for intron in introns:\n",
    "    seq=seq.replace(intron,'')\n",
    "rna_seq = seq.replace('T','U')    "
   ]
  },
  {
   "cell_type": "code",
   "execution_count": 83,
   "metadata": {},
   "outputs": [],
   "source": [
    "exons = ''.join([rnacodons[rna_seq[i:i+3]] for i in range(0,len(rna_seq),3)])\n",
    "exons = exons[:-4]"
   ]
  },
  {
   "cell_type": "code",
   "execution_count": 85,
   "metadata": {},
   "outputs": [],
   "source": [
    "exons"
   ]
  }
 ],
 "metadata": {
  "kernelspec": {
   "display_name": "Python 3",
   "language": "python",
   "name": "python3"
  },
  "language_info": {
   "codemirror_mode": {
    "name": "ipython",
    "version": 3
   },
   "file_extension": ".py",
   "mimetype": "text/x-python",
   "name": "python",
   "nbconvert_exporter": "python",
   "pygments_lexer": "ipython3",
   "version": "3.6.4"
  }
 },
 "nbformat": 4,
 "nbformat_minor": 2
}
