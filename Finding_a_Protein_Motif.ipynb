{
 "cells": [
  {
   "cell_type": "code",
   "execution_count": 87,
   "metadata": {},
   "outputs": [],
   "source": [
    "pIds = open(r\"C:\\Users\\Derek Hart\\Documents\\Python\\rosalind_mprt.txt\").read().split()"
   ]
  },
  {
   "cell_type": "code",
   "execution_count": 89,
   "metadata": {},
   "outputs": [
    {
     "name": "stdout",
     "output_type": "stream",
     "text": [
      "P01044_KNH1_BOVIN\n",
      "47 87 168 169 197 204\n",
      "P24592_IBP6_HUMAN\n",
      "229\n",
      "P04921_GLPC_HUMAN\n",
      "8\n",
      "P03395_ENV_MLVFR\n",
      "12 168 302 334 341 374 410\n",
      "P01046_KNL1_BOVIN\n",
      "47 87 168 169 197 204\n",
      "Q4FZD7\n",
      "528\n",
      "P47002\n",
      "35 552 608\n",
      "P01589_IL2A_HUMAN\n",
      "70 89\n",
      "P04233_HG2A_HUMAN\n",
      "130 136 256 270\n",
      "P02974_FMM1_NEIGO\n",
      "67 68 121\n",
      "P05155_IC1_HUMAN\n",
      "25 69 81 238 253 352\n"
     ]
    }
   ],
   "source": [
    "import urllib3\n",
    "urllib3.disable_warnings(urllib3.exceptions.InsecureRequestWarning)\n",
    "http = urllib3.PoolManager()\n",
    "\n",
    "for pId in pIds:\n",
    "    r = http.request('Get',\"https://www.uniprot.org/uniprot/\"+pId+\".fasta\")\n",
    "    pStr = r.data.decode('utf-8')\n",
    "    start  = pStr.find(\"SV\")+4\n",
    "    pStr = pStr[start:].replace('\\n','')\n",
    "    motifLocs= ''\n",
    "    for i in range(len(pStr)):\n",
    "        if pStr[i] == 'N':\n",
    "            if pStr[i+1] != 'P':\n",
    "                if pStr[i+2] == 'S' or pStr[i+2] == 'T':\n",
    "                    if pStr[i+3] != 'P':\n",
    "                        motifLocs = motifLocs + str(i+1) + ' '\n",
    "    if motifLocs:\n",
    "        print(pId)\n",
    "        print(motifLocs[:-1])"
   ]
  }
 ],
 "metadata": {
  "kernelspec": {
   "display_name": "Python 3",
   "language": "python",
   "name": "python3"
  },
  "language_info": {
   "codemirror_mode": {
    "name": "ipython",
    "version": 3
   },
   "file_extension": ".py",
   "mimetype": "text/x-python",
   "name": "python",
   "nbconvert_exporter": "python",
   "pygments_lexer": "ipython3",
   "version": "3.6.4"
  }
 },
 "nbformat": 4,
 "nbformat_minor": 2
}
