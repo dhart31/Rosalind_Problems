{
 "cells": [
  {
   "cell_type": "code",
   "execution_count": 67,
   "metadata": {},
   "outputs": [],
   "source": [
    "import itertools\n",
    "s = 'A B C D'\n",
    "length = 4\n",
    "sl = s.split(' ')\n",
    "#Here's a quick way to do it using pythons iteration tools\n",
    "perms = [''.join(i) for i in list(product(sl, repeat = length))]\n",
    "permStr = '\\n'.join(perms)"
   ]
  },
  {
   "cell_type": "code",
   "execution_count": 76,
   "metadata": {},
   "outputs": [],
   "source": [
    "f = open(r\"C:\\Users\\Derek Hart\\Documents\\Python\\enumerating_kmers_example.txt\",'w')\n",
    "f.write(permStr)\n",
    "f.close()"
   ]
  },
  {
   "cell_type": "code",
   "execution_count": 82,
   "metadata": {},
   "outputs": [
    {
     "name": "stdout",
     "output_type": "stream",
     "text": [
      "['A', 'B', 'C', 'D']\n",
      "['AA', 'AB', 'AC', 'AD', 'BA', 'BB', 'BC', 'BD', 'CA', 'CB', 'CC', 'CD', 'DA', 'DB', 'DC', 'DD']\n",
      "AA\n",
      "AB\n",
      "AC\n",
      "AD\n",
      "BA\n",
      "BB\n",
      "BC\n",
      "BD\n",
      "CA\n",
      "CB\n",
      "CC\n",
      "CD\n",
      "DA\n",
      "DB\n",
      "DC\n",
      "DD\n"
     ]
    }
   ],
   "source": [
    "length = 2\n",
    "k_mer = ['']\n",
    "for  l in range(length):\n",
    "    k_mer =  [i+j for i in sl for j in k_mer]\n",
    "    print(k_mer)\n",
    "for i in k_mer: print (i)"
   ]
  },
  {
   "cell_type": "code",
   "execution_count": null,
   "metadata": {},
   "outputs": [],
   "source": []
  }
 ],
 "metadata": {
  "kernelspec": {
   "display_name": "Python 3",
   "language": "python",
   "name": "python3"
  },
  "language_info": {
   "codemirror_mode": {
    "name": "ipython",
    "version": 3
   },
   "file_extension": ".py",
   "mimetype": "text/x-python",
   "name": "python",
   "nbconvert_exporter": "python",
   "pygments_lexer": "ipython3",
   "version": "3.6.4"
  }
 },
 "nbformat": 4,
 "nbformat_minor": 2
}
