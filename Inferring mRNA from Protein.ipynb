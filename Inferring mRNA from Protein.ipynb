{
 "cells": [
  {
   "cell_type": "code",
   "execution_count": 43,
   "metadata": {},
   "outputs": [],
   "source": [
    "import numpy as np\n",
    "data = open(r\"C:\\Users\\Derek Hart\\Documents\\Python\\RNAcodontable.txt\").read()\n",
    "data = data.split('\\n')\n",
    "x = [x.split(' ') for x in data if x] \n",
    "rnacodons = []\n",
    "for n in x: \n",
    "    n = [i for i in n if i]\n",
    "    rnacodons.append(n)\n"
   ]
  },
  {
   "cell_type": "code",
   "execution_count": 94,
   "metadata": {},
   "outputs": [],
   "source": [
    "proteinstr = [x[1] for x in rnacodons]\n",
    "sampleStr = open(r\"C:\\Users\\Derek Hart\\Documents\\Python\\rosalind_mrna.txt\").read()\n",
    "modNum = 1000000\n",
    "numStops = sum([z=='Stop' for z in proteinstr])\n",
    "numCodons = [sum([x == y for x in proteinstr]) for y in sampleStr]+[numStops]"
   ]
  },
  {
   "cell_type": "code",
   "execution_count": 97,
   "metadata": {},
   "outputs": [],
   "source": [
    "a = 1\n",
    "for n in range(len(numCodons)):\n",
    "    a = a*numCodons[n]\n",
    "\n",
    "    a = a%modNum"
   ]
  },
  {
   "cell_type": "code",
   "execution_count": 93,
   "metadata": {},
   "outputs": [
    {
     "data": {
      "text/plain": [
       "0"
      ]
     },
     "execution_count": 93,
     "metadata": {},
     "output_type": "execute_result"
    }
   ],
   "source": [
    "a"
   ]
  },
  {
   "cell_type": "code",
   "execution_count": null,
   "metadata": {},
   "outputs": [],
   "source": []
  }
 ],
 "metadata": {
  "kernelspec": {
   "display_name": "Python 3",
   "language": "python",
   "name": "python3"
  },
  "language_info": {
   "codemirror_mode": {
    "name": "ipython",
    "version": 3
   },
   "file_extension": ".py",
   "mimetype": "text/x-python",
   "name": "python",
   "nbconvert_exporter": "python",
   "pygments_lexer": "ipython3",
   "version": "3.6.4"
  }
 },
 "nbformat": 4,
 "nbformat_minor": 2
}
