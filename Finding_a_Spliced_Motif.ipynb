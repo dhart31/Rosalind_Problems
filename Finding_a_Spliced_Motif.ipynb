{
 "cells": [
  {
   "cell_type": "code",
   "execution_count": 38,
   "metadata": {},
   "outputs": [],
   "source": [
    "from Bio import SeqIO\n",
    "fasta = list(SeqIO.parse(open(r\"C:\\Users\\Derek Hart\\Documents\\Python\\rosalind_sseq.txt\"),'fasta'))"
   ]
  },
  {
   "cell_type": "code",
   "execution_count": 48,
   "metadata": {},
   "outputs": [
    {
     "name": "stdout",
     "output_type": "stream",
     "text": [
      "4 6 13 20 25 31 32 40 43 45 53 57 58 67 70 73 74 80 83 90 95 98 101 102 104 105 109 121 122 123 125 129 134 136 138 140 148 150 155 157 158 163 171 172 179 181 184 193 194 196 200 204 205 210 211 217 219 227 228 \n"
     ]
    }
   ],
   "source": [
    "idx = 0\n",
    "output = \"\"\n",
    "s = str(fasta[0].seq)\n",
    "s2 = str(fasta[1].seq)\n",
    "for l in s2:\n",
    "    idx = s.find(l,idx)\n",
    "    idx +=1\n",
    "    output += str(idx)+ \" \"\n",
    "end = timeit.timeit()\n",
    "print(output)"
   ]
  },
  {
   "cell_type": "code",
   "execution_count": null,
   "metadata": {},
   "outputs": [],
   "source": []
  }
 ],
 "metadata": {
  "kernelspec": {
   "display_name": "Python 3",
   "language": "python",
   "name": "python3"
  },
  "language_info": {
   "codemirror_mode": {
    "name": "ipython",
    "version": 3
   },
   "file_extension": ".py",
   "mimetype": "text/x-python",
   "name": "python",
   "nbconvert_exporter": "python",
   "pygments_lexer": "ipython3",
   "version": "3.6.4"
  }
 },
 "nbformat": 4,
 "nbformat_minor": 2
}
