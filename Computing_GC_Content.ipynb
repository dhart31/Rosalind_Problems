{
 "cells": [
  {
   "cell_type": "code",
   "execution_count": 114,
   "metadata": {},
   "outputs": [],
   "source": [
    "def gcContent(s):\n",
    "    return sum([n == 'C' or n == 'G' for n in s])/len(s)"
   ]
  },
  {
   "cell_type": "code",
   "execution_count": 133,
   "metadata": {},
   "outputs": [],
   "source": [
    "data = open(r\"C:\\Users\\Derek Hart\\Documents\\Python\\rosalind_gc.txt\").read().replace('\\n','').split('>')\n",
    "data = [x for x in data if x]\n",
    "data=[[data[i][0:13],data[i][13:]] for i in range(len(data))]"
   ]
  },
  {
   "cell_type": "code",
   "execution_count": 134,
   "metadata": {},
   "outputs": [],
   "source": [
    "vals = [gcContent(data[i][1]) for i in range(len(data))]"
   ]
  },
  {
   "cell_type": "code",
   "execution_count": 135,
   "metadata": {},
   "outputs": [
    {
     "name": "stdout",
     "output_type": "stream",
     "text": [
      "0.5185185185185185\n",
      "Rosalind_7645\n"
     ]
    }
   ],
   "source": [
    "print(vals[vals.index(max(vals))])\n",
    "print(data[vals.index(max(vals))][0])"
   ]
  }
 ],
 "metadata": {
  "kernelspec": {
   "display_name": "Python 3",
   "language": "python",
   "name": "python3"
  },
  "language_info": {
   "codemirror_mode": {
    "name": "ipython",
    "version": 3
   },
   "file_extension": ".py",
   "mimetype": "text/x-python",
   "name": "python",
   "nbconvert_exporter": "python",
   "pygments_lexer": "ipython3",
   "version": "3.6.4"
  }
 },
 "nbformat": 4,
 "nbformat_minor": 2
}
